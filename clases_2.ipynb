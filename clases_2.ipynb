{
 "cells": [
  {
   "cell_type": "code",
   "execution_count": 2,
   "id": "0aac9a71-1ac0-4645-855d-dbf4cb2c5841",
   "metadata": {},
   "outputs": [
    {
     "data": {
      "image/png": "[encoded data removed]",
      "text/plain": [
       "<Figure size 640x480 with 1 Axes>"
      ]
     },
     "metadata": {},
     "output_type": "display_data"
    },
    {
     "data": {
      "text/plain": [
       "mean       3.758000\n",
       "std        1.765298\n",
       "25%        1.600000\n",
       "50%        4.350000\n",
       "75%        5.100000\n",
       "Mediana    4.350000\n",
       "Name: petal.length, dtype: float64"
      ]
     },
     "execution_count": 2,
     "metadata": {},
     "output_type": "execute_result"
    }
   ],
   "source": [
    "import pandas as pd\n",
    "import matplotlib.pyplot as plt\n",
    "\n",
    "class EstadisticaBasica:\n",
    "    def __init__(self, file_path):\n",
    "        self.file_path = file_path\n",
    "        self.dataframe = None\n",
    "    \n",
    "    def read_csv(self):\n",
    "        try:\n",
    "            self.dataframe = pd.read_csv(self.file_path)\n",
    "            return self.dataframe\n",
    "        except FileNotFoundError:\n",
    "            print(\"El archivo no fue encontrado.\")\n",
    "        except Exception as e:\n",
    "            print(\"Ocurrió un error durante la lectura del archivo:\", e)\n",
    "    \n",
    "    def get_descriptive_statistics(self):\n",
    "        if self.dataframe is not None:\n",
    "            return self.dataframe.describe()\n",
    "        else:\n",
    "            print(\"No se ha leído ningún archivo CSV.\")\n",
    "            \n",
    "    def get_variable_names(self):\n",
    "        if self.dataframe is not None:\n",
    "            return list(self.dataframe.columns)\n",
    "        else:\n",
    "            print(\"No se ha leído ningún archivo CSV.\")\n",
    "            \n",
    "    def get_variable_statistics(self, variable_name):\n",
    "        if self.dataframe is not None:\n",
    "            if variable_name in self.dataframe.columns:\n",
    "                var_data = self.dataframe[variable_name]\n",
    "                var_stat = var_data.describe()\n",
    "                var_stat.drop([\"count\", \"min\", 'max'], inplace=True)\n",
    "                var_stat[\"Mediana\"] = self.dataframe[variable_name].median()\n",
    "                \n",
    "                plt.hist(var_data, bins='auto')\n",
    "                plt.xlabel(variable_name)\n",
    "                plt.ylabel('Frecuencia')\n",
    "                plt.title('Histograma de ' + variable_name)\n",
    "                plt.show()\n",
    "                return var_stat\n",
    "            else:\n",
    "                print(\"El nombre de variable especificado no existe en el DataFrame.\")\n",
    "        else:\n",
    "            print(\"No se ha leído ningún archivo CSV.\")\n",
    "            \n",
    "       \n",
    "            \n",
    "lector = EstadisticaBasica('iris.csv')\n",
    "df = lector.read_csv()\n",
    "lector.get_descriptive_statistics()\n",
    "lector.get_variable_names()\n",
    "lector.get_variable_statistics('petal.length')"
   ]
  },
  {
   "cell_type": "code",
   "execution_count": 22,
   "id": "f305ae01-aa7f-4ed4-807c-ee688b8d7ca9",
   "metadata": {},
   "outputs": [
    {
     "name": "stdout",
     "output_type": "stream",
     "text": [
      "Requirement already satisfied: ipython in c:\\users\\ismael velandia\\.conda\\envs\\diplomado\\lib\\site-packages (8.13.2)\n",
      "Requirement already satisfied: typing-extensions in c:\\users\\ismael velandia\\.conda\\envs\\diplomado\\lib\\site-packages (from ipython) (4.5.0)\n",
      "Requirement already satisfied: jedi>=0.16 in c:\\users\\ismael velandia\\.conda\\envs\\diplomado\\lib\\site-packages (from ipython) (0.18.2)\n",
      "Requirement already satisfied: decorator in c:\\users\\ismael velandia\\.conda\\envs\\diplomado\\lib\\site-packages (from ipython) (5.1.1)\n",
      "Requirement already satisfied: backcall in c:\\users\\ismael velandia\\.conda\\envs\\diplomado\\lib\\site-packages (from ipython) (0.2.0)\n",
      "Requirement already satisfied: prompt-toolkit!=3.0.37,<3.1.0,>=3.0.30 in c:\\users\\ismael velandia\\.conda\\envs\\diplomado\\lib\\site-packages (from ipython) (3.0.38)\n",
      "Requirement already satisfied: pickleshare in c:\\users\\ismael velandia\\.conda\\envs\\diplomado\\lib\\site-packages (from ipython) (0.7.5)\n",
      "Requirement already satisfied: stack-data in c:\\users\\ismael velandia\\.conda\\envs\\diplomado\\lib\\site-packages (from ipython) (0.6.2)\n",
      "Requirement already satisfied: traitlets>=5 in c:\\users\\ismael velandia\\.conda\\envs\\diplomado\\lib\\site-packages (from ipython) (5.9.0)\n",
      "Requirement already satisfied: matplotlib-inline in c:\\users\\ismael velandia\\.conda\\envs\\diplomado\\lib\\site-packages (from ipython) (0.1.6)\n",
      "Requirement already satisfied: colorama in c:\\users\\ismael velandia\\.conda\\envs\\diplomado\\lib\\site-packages (from ipython) (0.4.6)\n",
      "Requirement already satisfied: pygments>=2.4.0 in c:\\users\\ismael velandia\\.conda\\envs\\diplomado\\lib\\site-packages (from ipython) (2.15.1)\n",
      "Requirement already satisfied: parso<0.9.0,>=0.8.0 in c:\\users\\ismael velandia\\.conda\\envs\\diplomado\\lib\\site-packages (from jedi>=0.16->ipython) (0.8.3)\n",
      "Requirement already satisfied: wcwidth in c:\\users\\ismael velandia\\.conda\\envs\\diplomado\\lib\\site-packages (from prompt-toolkit!=3.0.37,<3.1.0,>=3.0.30->ipython) (0.2.6)\n",
      "Requirement already satisfied: executing>=1.2.0 in c:\\users\\ismael velandia\\.conda\\envs\\diplomado\\lib\\site-packages (from stack-data->ipython) (1.2.0)\n",
      "Requirement already satisfied: asttokens>=2.1.0 in c:\\users\\ismael velandia\\.conda\\envs\\diplomado\\lib\\site-packages (from stack-data->ipython) (2.2.1)\n",
      "Requirement already satisfied: pure-eval in c:\\users\\ismael velandia\\.conda\\envs\\diplomado\\lib\\site-packages (from stack-data->ipython) (0.2.2)\n",
      "Requirement already satisfied: six in c:\\users\\ismael velandia\\.conda\\envs\\diplomado\\lib\\site-packages (from asttokens>=2.1.0->stack-data->ipython) (1.16.0)\n"
     ]
    }
   ],
   "source": [
    "!pip install ipython"
   ]
  }
 ],
 "metadata": {
  "kernelspec": {
   "display_name": "Python 3 (ipykernel)",
   "language": "python",
   "name": "python3"
  },
  "language_info": {
   "codemirror_mode": {
    "name": "ipython",
    "version": 3
   },
   "file_extension": ".py",
   "mimetype": "text/x-python",
   "name": "python",
   "nbconvert_exporter": "python",
   "pygments_lexer": "ipython3",
   "version": "3.9.16"
  }
 },
 "nbformat": 4,
 "nbformat_minor": 5
}
