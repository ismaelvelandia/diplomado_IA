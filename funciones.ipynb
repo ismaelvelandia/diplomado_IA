{
 "cells": [
  {
   "cell_type": "code",
   "execution_count": 12,
   "id": "256c8ac5",
   "metadata": {},
   "outputs": [
    {
     "name": "stdout",
     "output_type": "stream",
     "text": [
      "Ingrese el año 1972\n",
      "Ingrese el mes 6\n",
      "Ingrese el dia 9\n",
      "La edad es: 50\n"
     ]
    }
   ],
   "source": [
    "# Ejercicio 1\n",
    "from datetime import date\n",
    "\n",
    "def calcular_edad(fecha_nacimiento):\n",
    "    \"\"\"\n",
    "    Calcula la edad a partir de la fecha de nacimiento.\n",
    "    Args:\n",
    "        fecha_nacimiento (date): La fecha de nacimiento en formato \"date\".\n",
    "    Returns:\n",
    "        int: La edad calculada.\n",
    "    \"\"\"\n",
    "    \n",
    "    fecha_actual = date.today()\n",
    "    edad = fecha_actual.year - fecha_nacimiento.year\n",
    "\n",
    "    # Verificar si aún no ha pasado el cumpleaños de este año\n",
    "    if (date(fecha_actual.year, fecha_actual.month, fecha_actual.day) < \n",
    "        date(fecha_actual.year, fecha_nacimiento.month, fecha_nacimiento.day)):\n",
    "        edad -= 1\n",
    "    return edad\n",
    "\n",
    "fecha = []\n",
    "for x in ['año', 'mes', 'dia']:\n",
    "    fecha.append(int(input(f'Ingrese el {x} ')))\n",
    "   \n",
    "fecha_nacimiento = date(fecha[0], fecha[1], fecha[2])  # Ejemplo de fecha de nacimiento (año, mes, día)\n",
    "edad = calcular_edad(fecha_nacimiento)\n",
    "print(\"La edad es:\", edad)"
   ]
  },
  {
   "cell_type": "code",
   "execution_count": 19,
   "id": "1011aed8",
   "metadata": {},
   "outputs": [
    {
     "name": "stdout",
     "output_type": "stream",
     "text": [
      "                                 ¡Hola, mundo!                                  \n"
     ]
    }
   ],
   "source": [
    "# Ejercicio 2\n",
    "\n",
    "def escribir_centrado(texto):\n",
    "    \"\"\"\n",
    "    Centra el texto suponiendo un ancho universal de 80 columnas.\n",
    "    Args:\n",
    "        texto (string): Es el texto a centrar.\n",
    "    Returns:\n",
    "        str: El texto centrado \n",
    "    \"\"\"\n",
    "    texto_centrado = texto.center(80)\n",
    "    return texto_centrado\n",
    "\n",
    "\n",
    "texto = \"¡Hola, mundo!\"\n",
    "texto_centrado = escribir_centrado(texto)\n",
    "print(texto_centrado)\n"
   ]
  },
  {
   "cell_type": "code",
   "execution_count": 20,
   "id": "58cab214",
   "metadata": {},
   "outputs": [
    {
     "name": "stdout",
     "output_type": "stream",
     "text": [
      "**_Hola, mundo!_**\n"
     ]
    }
   ],
   "source": [
    "# Ejercicio 3\n",
    "\n",
    "def markdown_decorator(func):\n",
    "    \"\"\"\n",
    "    Funcion decoradora\n",
    "    \"\"\"\n",
    "    def wrapper(texto):\n",
    "        texto_formateado = f\"**_{texto}_**\"\n",
    "        return func(texto_formateado)\n",
    "    return wrapper\n",
    "\n",
    "@markdown_decorator\n",
    "def imprimir_texto(texto):\n",
    "    \"\"\"\n",
    "    Funcion decorada\n",
    "    \"\"\"\n",
    "    print(texto)\n",
    "\n",
    "texto = \"Hola, mundo!\"\n",
    "imprimir_texto(texto)"
   ]
  },
  {
   "cell_type": "code",
   "execution_count": 32,
   "id": "4dc915db",
   "metadata": {},
   "outputs": [
    {
     "name": "stdout",
     "output_type": "stream",
     "text": [
      "Ingrese el primer número 2\n",
      "Ingrese el segundo número 3\n",
      "Ninguno de los valores ingresados es multiplo del otro valor ingresado\n"
     ]
    }
   ],
   "source": [
    "# Ejercicio 4\n",
    "primer_numero = int(input('Ingrese el primer número '))\n",
    "segundo_numero = int(input('Ingrese el segundo número '))\n",
    "\n",
    "def prueba_multiplo(primer_numero, segundo_numero):\n",
    "    \"\"\"\n",
    "    Determina si entre dos valores alguno es multiplo del otro\n",
    "    Args:\n",
    "        primer_numero (int): Primer valor a considerar.\n",
    "        segundo_numero (int): Segundo valor a considerar.\n",
    "    Returns:\n",
    "        str: Texto informativo impreso en pantalla\n",
    "    \"\"\"\n",
    "    if primer_numero % segundo_numero == 0:\n",
    "        print(primer_numero, 'es multiplo de', segundo_numero)\n",
    "    elif segundo_numero % primer_numero == 0:\n",
    "        print(segundo_numero, 'es multiplo de', primer_numero)\n",
    "    else:\n",
    "        print('Ninguno de los valores ingresados es multiplo del otro valor ingresado')\n",
    "            \n",
    "prueba_multiplo(primer_numero, segundo_numero)"
   ]
  },
  {
   "cell_type": "code",
   "execution_count": 36,
   "id": "3cf15b41",
   "metadata": {},
   "outputs": [
    {
     "data": {
      "text/plain": [
       "24"
      ]
     },
     "execution_count": 36,
     "metadata": {},
     "output_type": "execute_result"
    }
   ],
   "source": [
    "# Ejercicio 5\n",
    "def temperatura_media(temperaturas):\n",
    "    \"\"\"\n",
    "    Determina la temperatura media de los valores de una lista\n",
    "    Args:\n",
    "        temperaturas (list): Lista de valores a promediar.\n",
    "    Returns:\n",
    "        float: El valor medio de temperaturas\n",
    "    \"\"\"\n",
    "    if not temperaturas:\n",
    "        return None  # Retorna None si la lista está vacía\n",
    "    return sum(temperaturas)/len(temperaturas)\n",
    "\n",
    "temp = [10, 12, 11, 25, 32, 10, 25, 25, 40, 41, 16, 16, 8, 6, 19, 20, 20, 14, 15, 15, 8, 22, 5, 30]\n",
    "temperatura_media(temp)"
   ]
  },
  {
   "cell_type": "code",
   "execution_count": 40,
   "id": "db44642a",
   "metadata": {},
   "outputs": [
    {
     "data": {
      "text/plain": [
       "'h o l a   C o l o m b i a '"
      ]
     },
     "execution_count": 40,
     "metadata": {},
     "output_type": "execute_result"
    }
   ],
   "source": [
    "# Ejercicio 5b\n",
    "def convertir_espaciado(texto):\n",
    "    texto_espaciado = ''\n",
    "    for x in texto:\n",
    "        texto_espaciado += x+' '\n",
    "    return texto_espaciado\n",
    "\n",
    "convertir_espaciado('hola Colombia')"
   ]
  },
  {
   "cell_type": "code",
   "execution_count": 2,
   "id": "1331e541-4ade-40d2-a128-278da982915e",
   "metadata": {},
   "outputs": [
    {
     "name": "stdout",
     "output_type": "stream",
     "text": [
      "Mínimo: 1\n",
      "Máximo: 9\n"
     ]
    }
   ],
   "source": [
    "#ejercicio 6\n",
    "import numpy as np\n",
    "\n",
    "def encontrar_minimo_maximo(arreglo):\n",
    "    \"\"\"\n",
    "    Encuentra el valor mínimo y máximo en un arreglo de datos.\n",
    "    Args:\n",
    "        arreglo: Un arreglo numérico o una lista de valores numéricos.\n",
    "    Returns:\n",
    "        Un par de valores (minimo, maximo) representando el valor mínimo y máximo en el arreglo.\n",
    "    \"\"\"\n",
    "    if isinstance(arreglo, list):\n",
    "        arreglo = np.array(arreglo)\n",
    "    minimo = np.min(arreglo)\n",
    "    maximo = np.max(arreglo)\n",
    "    return minimo, maximo\n",
    "\n",
    "# Ejemplo de uso\n",
    "datos = np.array([5, 2, 9, 1, 7])\n",
    "minimo, maximo = encontrar_minimo_maximo(datos)\n",
    "print(\"Mínimo:\", minimo)\n",
    "print(\"Máximo:\", maximo)\n"
   ]
  },
  {
   "cell_type": "code",
   "execution_count": 4,
   "id": "f9604da4-a1e7-42e1-a035-d556a04e2511",
   "metadata": {},
   "outputs": [
    {
     "name": "stdout",
     "output_type": "stream",
     "text": [
      "Área: 78.54\n",
      "Perímetro: 31\n"
     ]
    }
   ],
   "source": [
    "# Ejercicio 7\n",
    "import math\n",
    "\n",
    "def calcular_area_perimetro_circunferencia(radio):\n",
    "    \"\"\"\n",
    "    Calcula el área y el perímetro de una circunferencia.\n",
    "    Args:\n",
    "        radio: El radio de la circunferencia.\n",
    "    Returns:\n",
    "        Un par de valores (area, perimetro) representando el área y el perímetro de la circunferencia.\n",
    "    \"\"\"\n",
    "    # Calcula el área de la circunferencia\n",
    "    area = math.pi * radio**2\n",
    "\n",
    "    # Calcula el perímetro de la circunferencia\n",
    "    perimetro = 2 * math.pi * radio\n",
    "\n",
    "    return area, perimetro\n",
    "\n",
    "# Ejemplo de uso\n",
    "radio = 5\n",
    "area, perimetro = calcular_area_perimetro_circunferencia(radio)\n",
    "print(\"Área:\", round(area,2))\n",
    "print(\"Perímetro:\", round(perimetro))\n"
   ]
  },
  {
   "cell_type": "code",
   "execution_count": 9,
   "id": "81405c05-b0a0-426a-a09e-ed19ddf1ed25",
   "metadata": {},
   "outputs": [
    {
     "name": "stdin",
     "output_type": "stream",
     "text": [
      "Ingrese su usuario:  usuario1\n",
      "Ingrese su contraseña:  asdasd\n"
     ]
    },
    {
     "name": "stdout",
     "output_type": "stream",
     "text": [
      "Bienvenido!\n",
      "Número de intentos de inicio de sesión: 6\n"
     ]
    }
   ],
   "source": [
    "# Ejercicio 8\n",
    "def login(usuario, contraseña, intentos=0):\n",
    "    # Valores esperados para el usuario y la contraseña\n",
    "    usuario_esperado = \"usuario1\"\n",
    "    contraseña_esperada = \"asdasd\"\n",
    "    intentos += 1\n",
    "    \n",
    "    # Verifica si los datos de inicio de sesión son correctos\n",
    "    if not (usuario == usuario_esperado and contraseña == contraseña_esperada):\n",
    "        print(\"Inicio de sesión fallido, intente nuevamente\")\n",
    "        return False, intentos\n",
    "    print(\"Bienvenido!\")\n",
    "    return True, intentos\n",
    "\n",
    "# Ejemplo de uso\n",
    "usuario = input(\"Ingrese su usuario: \")\n",
    "contraseña = input(\"Ingrese su contraseña: \")\n",
    "\n",
    "booleano, intentos = login(usuario, contraseña, 5)\n",
    "\n",
    "\n",
    "print(\"Número de intentos de inicio de sesión:\", intentos)"
   ]
  },
  {
   "cell_type": "code",
   "execution_count": 23,
   "id": "fd8e63db-87c6-4267-9ead-0cff6010719a",
   "metadata": {},
   "outputs": [
    {
     "name": "stdin",
     "output_type": "stream",
     "text": [
      "Ingrese un número entero:  4\n"
     ]
    },
    {
     "name": "stdout",
     "output_type": "stream",
     "text": [
      "factorial de 0 es igual a 1\n",
      "Factorial de 1 es igual a 1 que resulta de multiplicar 1  por factorial de 0\n",
      "Factorial de 2 es igual a 2 que resulta de multiplicar 2  por factorial de 1\n",
      "Factorial de 3 es igual a 6 que resulta de multiplicar 3  por factorial de 2\n",
      "Factorial de 4 es igual a 24 que resulta de multiplicar 4  por factorial de 3\n",
      "El factorial de 4 es: 24\n"
     ]
    }
   ],
   "source": [
    "# Ejericio 9\n",
    "\n",
    "def factorial(n):\n",
    "    \"\"\"\n",
    "    Realiza impresiones para entender el orden de ejecucion\n",
    "    \n",
    "    \"\"\"\n",
    "    if n == 0:\n",
    "        print('factorial de', n, 'es igual a 1')\n",
    "        return 1\n",
    "    else:\n",
    "        i = n * factorial(n - 1)\n",
    "        print('Factorial de', n, 'es igual a', i, 'que resulta de multiplicar', n, ' por factorial de', (n-1))\n",
    "        return i\n",
    "\n",
    "# Ejemplo de uso\n",
    "numero = int(input(\"Ingrese un número entero: \"))\n",
    "\n",
    "if numero < 0:\n",
    "    print(\"El factorial no está definido para números negativos.\")\n",
    "else:\n",
    "    resultado = factorial(numero)\n",
    "    print(\"El factorial de\", numero, \"es:\", resultado)"
   ]
  },
  {
   "cell_type": "code",
   "execution_count": 36,
   "id": "cc164e1c-bde6-48d1-af6d-31252b48ffd2",
   "metadata": {},
   "outputs": [
    {
     "data": {
      "text/plain": [
       "(36, 15, 7)"
      ]
     },
     "execution_count": 36,
     "metadata": {},
     "output_type": "execute_result"
    }
   ],
   "source": [
    "# Ejercicio 10\n",
    "def a_segundos(horas, minutos, segundos):\n",
    "    return (horas * 60 * 60) + (minutos * 60) + segundos\n",
    "\n",
    "def a_hor_min_seg(segundos):\n",
    "    horas, minutos, segundos_restantes = 0, 0, 0\n",
    "    \n",
    "    if segundos >= 3600:\n",
    "        horas = segundos // 3600\n",
    "        segundos_restantes = segundos - (horas * 3600)\n",
    "        \n",
    "    if segundos_restantes >= 60:\n",
    "        minutos = segundos_restantes // 60\n",
    "        segundos = segundos_restantes - (minutos * 60)\n",
    "    else: \n",
    "        segundos = segundos_restantes\n",
    "    \n",
    "    return horas, minutos, segundos\n",
    "\n",
    "seconds = a_segundos(36, 15, 7)\n",
    "a_hor_min_seg(seconds)    "
   ]
  },
  {
   "cell_type": "code",
   "execution_count": 39,
   "id": "6081abb8-1d1a-454f-9d9b-93e972af76ac",
   "metadata": {},
   "outputs": [
    {
     "name": "stdout",
     "output_type": "stream",
     "text": [
      "Tupla original: (1, 2, 3, 4, 5)\n",
      "Tupla invertida: (5, 4, 3, 2, 1)\n"
     ]
    }
   ],
   "source": [
    "# Ejercicio 11\n",
    "\n",
    "def invertir_tupla(tupla):\n",
    "    return tuple(reversed(tupla))\n",
    "\n",
    "# Ejemplo de uso\n",
    "mi_tupla = (1, 2, 3, 4, 5)\n",
    "tupla_invertida = invertir_tupla(mi_tupla)\n",
    "print(\"Tupla original:\", mi_tupla)\n",
    "print(\"Tupla invertida:\", tupla_invertida)"
   ]
  },
  {
   "cell_type": "code",
   "execution_count": 8,
   "id": "8dee6d0f-0ac7-4d03-9773-96272b6cf197",
   "metadata": {},
   "outputs": [
    {
     "name": "stdout",
     "output_type": "stream",
     "text": [
      "4.355877174692862\n"
     ]
    }
   ],
   "source": [
    "# Ejercicio 12\n",
    "\n",
    "import functools\n",
    "\n",
    "def multiplicar(a, b):\n",
    "    return a * b\n",
    "\n",
    "def media_geometrica(lista):\n",
    "    producto = functools.reduce(multiplicar, lista)\n",
    "    n = len(lista)\n",
    "    media_geom = producto**(1/n)\n",
    "    return media_geom\n",
    "\n",
    "lista = [5, 8,9,1]\n",
    "print(media_geometrica(lista))"
   ]
  },
  {
   "cell_type": "markdown",
   "id": "09c26778",
   "metadata": {},
   "source": [
    "**_Hola, mundo!_**"
   ]
  }
 ],
 "metadata": {
  "kernelspec": {
   "display_name": "Python 3 (ipykernel)",
   "language": "python",
   "name": "python3"
  },
  "language_info": {
   "codemirror_mode": {
    "name": "ipython",
    "version": 3
   },
   "file_extension": ".py",
   "mimetype": "text/x-python",
   "name": "python",
   "nbconvert_exporter": "python",
   "pygments_lexer": "ipython3",
   "version": "3.9.16"
  }
 },
 "nbformat": 4,
 "nbformat_minor": 5
}
