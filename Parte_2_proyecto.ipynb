{
 "cells": [
  {
   "cell_type": "markdown",
   "id": "be4573c6-4da7-45b1-bbde-3eff863cfed6",
   "metadata": {},
   "source": [
    "# Detección de asentamientos humanos ilegales utilizando inteligencia artificial y aprendizaje profundo\n",
    "![Desde un puerto fluvial y no maritimo como Barranquilla](https://cloudfront-us-east-1.images.arcpublishing.com/semana/EFPE6FXZ5FBUVFZIH3BKWONKBI.jpg)\n",
    "\n",
    "## Objetivos:\n",
    "\n",
    "1. Desarrollar un sistema de análisis de imágenes basado en inteligencia artificial y aprendizaje profundo para detectar asentamientos humanos ilegales.\n",
    "2. Entrenar una red neuronal convolucional (CNN) utilizando conjuntos de datos etiquetados que contengan imágenes de asentamientos humanos ilegales conocidos.\n",
    "3. Mejorar la capacidad del sistema para identificar nuevos asentamientos humanos ilegales no previamente identificados mediante la recopilación de nuevas imágenes y la adaptación del modelo.\n",
    "4. Proporcionar información precisa y actualizada sobre la ubicación de asentamientos ilegales para apoyar la toma de decisiones y acciones legales por parte de las autoridades competentes.\n",
    "![Asentamiento Ilegal en Popayan](https://colombiacheck.s3.us-east-2.amazonaws.com/colcheck/s3fs-public/styles/16x9/public/2019-01/vf%20DJI_0021_1.jpg?VersionId=MmVU6v0NTLvBhu7heZ2FJ3mC6XZaNa2D&h=0808bdec&itok=yacpXOLJ)\n",
    "## Ideas centrales\n",
    "1. Conjunto de datos anotados: Se requerirá un conjunto de datos etiquetados que contenga imágenes de asentamientos humanos ilegales identificados previamente. Este conjunto de datos será utilizado para el entrenamiento inicial del modelo.\n",
    "2. Transferencia de aprendizaje: Se puede aprovechar el conocimiento preexistente de redes neuronales entrenadas en la detección de objetos o segmentación semántica, utilizando técnicas de transferencia de aprendizaje para adaptar el modelo a la detección de asentamientos ilegales.\n",
    "3. Actualización continua del modelo: Se implementará un sistema de actualización continua del modelo utilizando imágenes más recientes. Esto permitirá mejorar la capacidad del sistema para identificar asentamientos no identificados previamente, manteniendo su precisión y eficacia a lo largo del tiempo.\n",
    "\n",
    "## Fuentes de datos:\n",
    "\n",
    "1. Imágenes satelitales: El Dane cuenta ya con algunas imágenes satelitales con la ubicación precisa de estos asentamientos y se evaluará la posibilidad de apoyarse en herramientas gratuitas como Google Earth Engine. Estas imágenes proporcionarán datos visuales de las zonas de asentamientos humanos ilegales conocidos y permitirán la detección de nuevos asentamientos.\n",
    "\n",
    "\n",
    "![Asentamientos cerca al Aeropuerto El Dorado Bogota](https://upload.wikimedia.org/wikipedia/commons/e/e0/Vista_a%C3%A9rea_Aeropuerto_Internacional_Eldorado_Bogot%C3%A1_%28SKBO-BOG%29_%288204595196%29.jpg)\n"
   ]
  }
 ],
 "metadata": {
  "kernelspec": {
   "display_name": "Python 3 (ipykernel)",
   "language": "python",
   "name": "python3"
  },
  "language_info": {
   "codemirror_mode": {
    "name": "ipython",
    "version": 3
   },
   "file_extension": ".py",
   "mimetype": "text/x-python",
   "name": "python",
   "nbconvert_exporter": "python",
   "pygments_lexer": "ipython3",
   "version": "3.9.16"
  }
 },
 "nbformat": 4,
 "nbformat_minor": 5
}
